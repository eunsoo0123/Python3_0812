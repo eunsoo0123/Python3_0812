{
  "nbformat": 4,
  "nbformat_minor": 0,
  "metadata": {
    "colab": {
      "provenance": []
    },
    "kernelspec": {
      "name": "python3",
      "display_name": "Python 3"
    },
    "language_info": {
      "name": "python"
    }
  },
  "cells": [
    {
      "cell_type": "code",
      "execution_count": 2,
      "metadata": {
        "colab": {
          "base_uri": "https://localhost:8080/"
        },
        "id": "5X9Gekc6LG3N",
        "outputId": "086cfe89-ba11-421a-c5fb-1a0ef5775660"
      },
      "outputs": [
        {
          "output_type": "stream",
          "name": "stdout",
          "text": [
            "숫자를 입력하세요: 123456789\n",
            "123456789는 홀수입니다.\n"
          ]
        }
      ],
      "source": [
        "# 사용자로부터 숫자 입력받기\n",
        "input_str = input(\"숫자를 입력하세요: \")\n",
        "\n",
        "try:\n",
        "    # 입력된 문자열을 정수로 변환\n",
        "    number = int(input_str)\n",
        "\n",
        "    # 홀수 또는 짝수 판별\n",
        "    if number % 2 == 0:\n",
        "        print(f\"{number}는 짝수입니다.\")\n",
        "    else:\n",
        "        print(f\"{number}는 홀수입니다.\")\n",
        "except ValueError:\n",
        "    # 입력이 정수가 아닌 경우 처리\n",
        "    print(\"유효하지 않은 입력입니다. 정수를 입력해주세요.\")"
      ]
    }
  ]
}